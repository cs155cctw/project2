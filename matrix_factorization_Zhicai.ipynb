{
 "cells": [
  {
   "cell_type": "code",
   "execution_count": 1,
   "metadata": {},
   "outputs": [],
   "source": [
    "import matplotlib.pyplot as plt\n",
    "import numpy as np\n",
    "from svdutils_Zhicai import train_model, get_err, train_model_bias, get_err_bias"
   ]
  },
  {
   "cell_type": "code",
   "execution_count": 2,
   "metadata": {},
   "outputs": [],
   "source": [
    "Y_train = np.loadtxt('data/train.txt').astype(int)\n",
    "Y_test = np.loadtxt('data/test.txt').astype(int)\n",
    "\n",
    "M = max(max(Y_train[:,0]), max(Y_test[:,0])).astype(int) # users\n",
    "N = max(max(Y_train[:,1]), max(Y_test[:,1])).astype(int) # movies"
   ]
  },
  {
   "cell_type": "markdown",
   "metadata": {},
   "source": [
    "## Task 1: use the code from homework 5"
   ]
  },
  {
   "cell_type": "code",
   "execution_count": 3,
   "metadata": {},
   "outputs": [
    {
     "name": "stdout",
     "output_type": "stream",
     "text": [
      "Initial error = 6.930501710556587\n",
      "After epoch: 0, error = 0.5077530195453849, eps = 0.9267364700636359\n",
      "After epoch: 1, error = 0.429606790116464, eps = 0.01216710059639862\n",
      "After epoch: 2, error = 0.4089670241221571, eps = 0.003213540959993159\n",
      "After epoch: 3, error = 0.394504323248331, eps = 0.002251793051480743\n",
      "After epoch: 4, error = 0.3841090688309945, eps = 0.0016185055522855718\n",
      "After epoch: 5, error = 0.37961120059522574, eps = 0.0007003026978252524\n",
      "After epoch: 6, error = 0.3743853337989853, eps = 0.0008136495833246849\n",
      "After epoch: 7, error = 0.36606649116375306, eps = 0.0012952153408827404\n",
      "After epoch: 8, error = 0.36090104662665595, eps = 0.0008042420442709018\n",
      "After epoch: 9, error = 0.3559581087514744, eps = 0.0007695985181701628\n",
      "After epoch: 10, error = 0.35455479461094774, eps = 0.00021849121116798606\n",
      "After epoch: 11, error = 0.3488004474867625, eps = 0.0008959321625394776\n",
      "After epoch: 12, error = 0.3455853466304655, eps = 0.0005005802049824272\n",
      "After epoch: 13, error = 0.34260877367705206, eps = 0.000463442226469051\n",
      "After epoch: 14, error = 0.3349173600343632, eps = 0.0011975267930774262\n",
      "After epoch: 15, error = 0.3343177097238768, eps = 9.336350203544342e-05\n",
      "After epoch: 16, error = 0.33486643722149956, eps = 8.543499427133204e-05\n",
      "After epoch: 17, error = 0.3342192335573165, eps = 0.00010076739653364613\n",
      "After epoch: 18, error = 0.33278214027207975, eps = 0.0002237505084463248\n",
      "After epoch: 19, error = 0.3263024948441395, eps = 0.0010088586273052686\n",
      "After epoch: 20, error = 0.3259106027362457, eps = 6.101626059917572e-05\n",
      "After epoch: 21, error = 0.3283866710252837, eps = 0.0003855153623717642\n",
      "After epoch: 22, error = 0.3205064223148093, eps = 0.0012269277671572276\n",
      "After epoch: 23, error = 0.3189651269139609, eps = 0.00023997442138838307\n",
      "After epoch: 24, error = 0.3193533722763097, eps = 6.044847479276062e-05\n",
      "After epoch: 25, error = 0.3207679194246125, eps = 0.00022024015205242219\n",
      "After epoch: 26, error = 0.32421599205756596, eps = 0.0005368531136488495\n",
      "After epoch: 27, error = 0.3185545236896338, eps = 0.0008814712579141629\n",
      "After epoch: 28, error = 0.31427202171978774, eps = 0.0006667709069544476\n",
      "After epoch: 29, error = 0.31378506735082773, eps = 7.581712945448386e-05\n",
      "After epoch: 30, error = 0.3143515210039995, eps = 8.819489605198585e-05\n",
      "After epoch: 31, error = 0.3163821442985561, eps = 0.00031616110052671355\n",
      "After epoch: 32, error = 0.3157684529293058, eps = 9.554964685278762e-05\n",
      "After epoch: 33, error = 0.3114573684951014, eps = 0.0006712210988790251\n",
      "After epoch: 34, error = 0.3120665392861947, eps = 9.484580829790896e-05\n",
      "After epoch: 35, error = 0.31062558287219166, eps = 0.0002243519843800991\n",
      "After epoch: 36, error = 0.3087396290032379, eps = 0.0002936365658511873\n",
      "After epoch: 37, error = 0.3103633241580123, eps = 0.00025280378119835173\n",
      "After epoch: 38, error = 0.3096475433836842, eps = 0.00011144461799195942\n",
      "After epoch: 39, error = 0.31201696322579486, eps = 0.0003689105640123683\n",
      "After epoch: 40, error = 0.3091917825808684, eps = 0.00043987096192637815\n",
      "After epoch: 41, error = 0.3075345231395643, eps = 0.0002580296257929953\n",
      "After epoch: 42, error = 0.30561537800152794, eps = 0.00029880433290535916\n",
      "After epoch: 43, error = 0.30385608678426884, eps = 0.00027391562427489465\n",
      "After epoch: 44, error = 0.30830128763210163, eps = 0.0006921025656902871\n",
      "After epoch: 45, error = 0.3081143662692577, eps = 2.9103016766875725e-05\n",
      "After epoch: 46, error = 0.30526508796557106, eps = 0.00044362288496111927\n",
      "After epoch: 47, error = 0.30475553362587254, eps = 7.933586758760291e-05\n",
      "After epoch: 48, error = 0.3049460863341709, eps = 2.9668404831884234e-05\n",
      "After epoch: 49, error = 0.304981481042115, eps = 5.510834947285796e-06\n"
     ]
    },
    {
     "data": {
      "text/plain": [
       "(array([[ 0.09359669,  0.55920913, -1.165625  , ...,  0.36421519,\n",
       "          0.22333661, -0.16149245],\n",
       "        [ 0.15496869,  0.55327062, -0.93851641, ...,  0.26449559,\n",
       "          0.23584307, -0.36102624],\n",
       "        [ 0.43687673,  0.21120409, -1.33387772, ...,  0.44062732,\n",
       "         -0.5680363 , -0.35311889],\n",
       "        ...,\n",
       "        [ 0.08047793,  0.81277023, -1.29609794, ...,  0.39827936,\n",
       "          0.35612746, -0.31678918],\n",
       "        [-0.04351113,  0.40966417, -1.21385771, ...,  0.6000309 ,\n",
       "          0.65940406, -0.20250447],\n",
       "        [-0.1479548 ,  0.4556741 , -1.30855571, ...,  0.22600635,\n",
       "         -0.05062591,  0.06245482]]),\n",
       " array([[ 0.10574822,  0.74954986, -1.47841905, ...,  0.47018767,\n",
       "          0.49542312, -0.16645798],\n",
       "        [-0.09677485,  0.50026173, -1.06815905, ...,  0.32748032,\n",
       "          0.58367713,  0.13486521],\n",
       "        [ 0.22203388, -0.03189501, -1.283107  , ...,  0.53474765,\n",
       "          0.12526957, -0.20328664],\n",
       "        ...,\n",
       "        [ 0.05111671,  0.50395433, -0.66408605, ..., -0.21255927,\n",
       "          0.39798514,  0.04122701],\n",
       "        [ 0.01331789,  0.14401554, -0.88653288, ...,  0.0608072 ,\n",
       "          0.04347758,  0.13531681],\n",
       "        [ 0.14887123,  0.25345445, -0.86961473, ...,  0.58978547,\n",
       "         -0.19197202,  0.15983097]]),\n",
       " 0.304981481042115)"
      ]
     },
     "execution_count": 3,
     "metadata": {},
     "output_type": "execute_result"
    }
   ],
   "source": [
    "train_model(M, N, 20, 0.03, 0.12, Y_train, 1e-5, 300, True)"
   ]
  },
  {
   "cell_type": "code",
   "execution_count": 4,
   "metadata": {},
   "outputs": [
    {
     "name": "stdout",
     "output_type": "stream",
     "text": [
      "Training model with M = 943, N = 1682, k = 20, eta = 0.03, reg = 0.001\n",
      "E_in = 0.2368, E_out = 0.7127\n",
      "Training model with M = 943, N = 1682, k = 20, eta = 0.03, reg = 0.01\n",
      "E_in = 0.1969, E_out = 0.5973\n",
      "Training model with M = 943, N = 1682, k = 20, eta = 0.03, reg = 0.06\n",
      "E_in = 0.2352, E_out = 0.4668\n",
      "Training model with M = 943, N = 1682, k = 20, eta = 0.03, reg = 0.08\n",
      "E_in = 0.2689, E_out = 0.4525\n",
      "Training model with M = 943, N = 1682, k = 20, eta = 0.03, reg = 0.1\n",
      "E_in = 0.3152, E_out = 0.4489\n",
      "Training model with M = 943, N = 1682, k = 20, eta = 0.03, reg = 0.12\n",
      "E_in = 0.3511, E_out = 0.4552\n",
      "Training model with M = 943, N = 1682, k = 20, eta = 0.03, reg = 0.14\n",
      "E_in = 0.3820, E_out = 0.4589\n",
      "Training model with M = 943, N = 1682, k = 20, eta = 0.03, reg = 0.2\n",
      "E_in = 0.4231, E_out = 0.4719\n",
      "Training model with M = 943, N = 1682, k = 20, eta = 0.03, reg = 1.0\n",
      "E_in = 0.9456, E_out = 0.9655\n"
     ]
    }
   ],
   "source": [
    "## scan E_in and E_out for different lambda\n",
    "regs = [10**-3, 10**-2, 0.06, 0.08, 10**-1, 0.12, 0.14, 0.20, 1.0]\n",
    "eta = 0.03\n",
    "K = 20\n",
    "E_ins_vs_lambda = np.zeros(len(regs))\n",
    "E_outs_vs_lambda = np.zeros(len(regs))\n",
    "\n",
    "for idx in range(len(regs)):\n",
    "    print(\"Training model with M = %s, N = %s, k = %s, eta = %s, reg = %s\"%(M, N, K, eta, regs[idx]))\n",
    "    U,V, e_in = train_model(M, N, K, eta, regs[idx], Y_train)\n",
    "    E_ins_vs_lambda[idx] = e_in\n",
    "    eout = get_err(U, V, Y_test)\n",
    "    E_outs_vs_lambda[idx] = eout\n",
    "    print(\"E_in = %6.4f, E_out = %6.4f\"%(e_in, eout))"
   ]
  },
  {
   "cell_type": "code",
   "execution_count": 5,
   "metadata": {},
   "outputs": [
    {
     "data": {
      "image/png": "[encoded data removed]",
      "text/plain": [
       "<Figure size 432x288 with 1 Axes>"
      ]
     },
     "metadata": {
      "needs_background": "light"
     },
     "output_type": "display_data"
    }
   ],
   "source": [
    "#plot E_in and E_out vs. lambda\n",
    "plt.plot(regs, E_ins_vs_lambda, label='$E_{in}$ vs $\\lambda$')\n",
    "plt.plot(regs, E_outs_vs_lambda, label='$E_{out}$ vs $\\lambda$')\n",
    "plt.xlabel('$\\lambda$')\n",
    "plt.ylabel('Error')\n",
    "plt.legend()\n",
    "plt.savefig('task1_Ein_Eout_vs_lambda.pdf')\n",
    "plt.savefig('task1_Ein_Eout_vs_lambda.png')"
   ]
  },
  {
   "cell_type": "code",
   "execution_count": 6,
   "metadata": {},
   "outputs": [
    {
     "name": "stdout",
     "output_type": "stream",
     "text": [
      "1\n",
      "0.01\n",
      "4\n",
      "0.1\n"
     ]
    }
   ],
   "source": [
    "print(np.argmin(E_ins_vs_lambda))\n",
    "print(regs[np.argmin(E_ins_vs_lambda)])\n",
    "print(np.argmin(E_outs_vs_lambda))\n",
    "print(regs[np.argmin(E_outs_vs_lambda)])"
   ]
  },
  {
   "cell_type": "code",
   "execution_count": 7,
   "metadata": {},
   "outputs": [
    {
     "name": "stdout",
     "output_type": "stream",
     "text": [
      "Training model with M = 943, N = 1682, k = 20, eta = 0.001, reg = 0.1\n",
      "E_in = 0.2999, E_out = 0.4233\n",
      "Training model with M = 943, N = 1682, k = 20, eta = 0.01, reg = 0.1\n",
      "E_in = 0.2922, E_out = 0.4277\n",
      "Training model with M = 943, N = 1682, k = 20, eta = 0.02, reg = 0.1\n",
      "E_in = 0.2877, E_out = 0.4347\n",
      "Training model with M = 943, N = 1682, k = 20, eta = 0.03, reg = 0.1\n",
      "E_in = 0.2977, E_out = 0.4422\n",
      "Training model with M = 943, N = 1682, k = 20, eta = 0.04, reg = 0.1\n",
      "E_in = 0.3270, E_out = 0.4624\n",
      "Training model with M = 943, N = 1682, k = 20, eta = 0.05, reg = 0.1\n",
      "E_in = 0.3085, E_out = 0.4613\n",
      "Training model with M = 943, N = 1682, k = 20, eta = 0.1, reg = 0.1\n",
      "E_in = 0.3884, E_out = 0.5366\n"
     ]
    }
   ],
   "source": [
    "## scan E_in and E_out for different eta\n",
    "## scan E_in and E_out for different lambda\n",
    "reg = 0.10\n",
    "etas = [0.001, 0.01, 0.02, 0.03, 0.04, 0.05, 0.1]\n",
    "K = 20\n",
    "E_ins_vs_eta = np.zeros(len(etas))\n",
    "E_outs_vs_eta = np.zeros(len(etas))\n",
    "\n",
    "for idx in range(len(etas)):\n",
    "    print(\"Training model with M = %s, N = %s, k = %s, eta = %s, reg = %s\"%(M, N, K, etas[idx], reg))\n",
    "    U,V, e_in = train_model(M, N, K, etas[idx], reg, Y_train)\n",
    "    E_ins_vs_eta[idx] = e_in\n",
    "    eout = get_err(U, V, Y_test)\n",
    "    E_outs_vs_eta[idx] = eout\n",
    "    print(\"E_in = %6.4f, E_out = %6.4f\"%(e_in, eout))"
   ]
  },
  {
   "cell_type": "code",
   "execution_count": 8,
   "metadata": {},
   "outputs": [
    {
     "data": {
      "image/png": "[encoded data removed]",
      "text/plain": [
       "<Figure size 432x288 with 1 Axes>"
      ]
     },
     "metadata": {
      "needs_background": "light"
     },
     "output_type": "display_data"
    }
   ],
   "source": [
    "#plot E_in and E_out vs. eta\n",
    "plt.clf()\n",
    "plt.plot(etas, E_ins_vs_eta, label='$E_{in}$ vs $\\eta$')\n",
    "plt.plot(etas, E_outs_vs_eta, label='$E_{out}$ vs $\\eta$')\n",
    "plt.xlabel('$\\eta$')\n",
    "plt.ylabel('Error')\n",
    "plt.legend()\n",
    "plt.savefig('task1_Ein_Eout_vs_eta.pdf')\n",
    "plt.savefig('task1_Ein_Eout_vs_eta.png')"
   ]
  },
  {
   "cell_type": "code",
   "execution_count": 9,
   "metadata": {},
   "outputs": [
    {
     "name": "stdout",
     "output_type": "stream",
     "text": [
      "2\n",
      "0.06\n",
      "0\n",
      "0.001\n"
     ]
    }
   ],
   "source": [
    "print(np.argmin(E_ins_vs_eta))\n",
    "print(regs[np.argmin(E_ins_vs_eta)])\n",
    "print(np.argmin(E_outs_vs_eta))\n",
    "print(regs[np.argmin(E_outs_vs_eta)])"
   ]
  },
  {
   "cell_type": "code",
   "execution_count": null,
   "metadata": {},
   "outputs": [
    {
     "name": "stdout",
     "output_type": "stream",
     "text": [
      "Initial error = 6.934032381522601\n",
      "After epoch: 0, error = 0.5067764077048464, eps = 0.9269146176681733\n",
      "After epoch: 1, error = 0.4227802959785896, eps = 0.013068736031118982\n",
      "After epoch: 2, error = 0.39762901644445714, eps = 0.003913222008986327\n",
      "After epoch: 3, error = 0.38035387178390134, eps = 0.002687794718450346\n",
      "After epoch: 4, error = 0.3671997288542531, eps = 0.0020466188033016427\n",
      "After epoch: 5, error = 0.3586892970839083, eps = 0.0013241158909825833\n",
      "After epoch: 6, error = 0.3517295002931355, eps = 0.001082856637284156\n",
      "After epoch: 7, error = 0.3432781829948769, eps = 0.0013149184243923247\n",
      "After epoch: 8, error = 0.3352119604762894, eps = 0.0012550025316318972\n",
      "After epoch: 9, error = 0.333408745466282, eps = 0.00028055752211409953\n",
      "After epoch: 10, error = 0.32509289845749006, eps = 0.0012938409552486498\n",
      "After epoch: 11, error = 0.32035940677626534, eps = 0.0007364716296514722\n",
      "After epoch: 12, error = 0.3165352927548568, eps = 0.0005949839304652788\n",
      "After epoch: 13, error = 0.3126223626673806, eps = 0.0006088025906259293\n",
      "After epoch: 14, error = 0.3050111332669289, eps = 0.0011842113386267765\n",
      "After epoch: 15, error = 0.30627070194108935, eps = 0.0001959730060995628\n",
      "After epoch: 16, error = 0.30451463499410397, eps = 0.0002732218779116534\n",
      "After epoch: 17, error = 0.3046586826758238, eps = 2.2412003241604862e-05\n",
      "After epoch: 18, error = 0.2964830702101172, eps = 0.001272022228305669\n",
      "After epoch: 19, error = 0.2947100729120095, eps = 0.00027585602710242653\n",
      "After epoch: 20, error = 0.29637270481184846, eps = 0.0002586845625274446\n",
      "After epoch: 21, error = 0.2907556284488754, eps = 0.0008739462666268334\n",
      "After epoch: 22, error = 0.28946874010318946, eps = 0.0002002236025651179\n",
      "After epoch: 23, error = 0.287511039387557, eps = 0.0003045935502813941\n",
      "After epoch: 24, error = 0.28657698743478627, eps = 0.0001453267080968491\n",
      "After epoch: 25, error = 0.2857092258877916, eps = 0.0001350127566926899\n",
      "After epoch: 26, error = 0.28948737742273845, eps = 0.0005878327470288492\n",
      "After epoch: 27, error = 0.2866594834968765, eps = 0.00043998464311702446\n",
      "After epoch: 28, error = 0.2847095895501529, eps = 0.0003033789154604562\n"
     ]
    }
   ],
   "source": [
    "## train with the optimized eta dna lambda, and get U, V\n",
    "reg = 0.10\n",
    "eta = 0.03\n",
    "K = 20\n",
    "UT, VT, e_in = train_model(M, N, K, eta, reg, Y_train, 1e-5, 300, True)\n",
    "eout = get_err(UT, VT, Y_test)"
   ]
  },
  {
   "cell_type": "code",
   "execution_count": null,
   "metadata": {},
   "outputs": [],
   "source": [
    "## read the movies.txt file, get the list of all movies ids, names, and their genres\n",
    "ratings_all = np.loadtxt('data/data.txt')\n",
    "movies_all = []\n",
    "with open('data/movies.txt') as f:\n",
    "    lines = f.readlines()  \n",
    "    for line in lines:\n",
    "        line_items = line.strip('\\n').split(';')\n",
    "        line_items_int_str = []\n",
    "        for idx in range(len(line_items)):\n",
    "            if idx == 1:\n",
    "                line_items_int_str.append(line_items[idx][0:line_items[idx].find('(')]) #remove the year of the movie from the name\n",
    "            else:\n",
    "                line_items_int_str.append(int(line_items[idx]))\n",
    "        movies_all.append(line_items_int_str)"
   ]
  },
  {
   "cell_type": "code",
   "execution_count": null,
   "metadata": {},
   "outputs": [],
   "source": [
    "## 10 random movies, 10 most popular movies, and 10 best movies\n",
    "average_ratings_all = np.zeros(len(movies_all))\n",
    "num_of_ratings_all = np.zeros(len(movies_all))\n",
    "for rating in ratings_all:\n",
    "    num_of_ratings_all[int(rating[1])-1] += 1\n",
    "    average_ratings_all[int(rating[1])-1] += rating[2]\n",
    "average_ratings_all = np.divide(average_ratings_all, num_of_ratings_all)\n",
    "id_most_popular_10 = num_of_ratings_all.argsort()[-10:][::-1]\n",
    "id_best_10 = average_ratings_all.argsort()[-10:][::-1]\n",
    "\n",
    "name_most_popular_10 = []\n",
    "for idx in range(len(id_most_popular_10)):\n",
    "    name_most_popular_10.append(movies_all[id_most_popular_10[idx]][1])\n",
    "    \n",
    "name_best_10 = []\n",
    "for idx in range(len(id_best_10)):\n",
    "    name_best_10.append(movies_all[id_best_10[idx]][1])\n",
    "    #print(average_ratings_all[id_best_10[idx]])\n",
    "    #print(num_of_ratings_all[id_best_10[idx]])\n",
    "\n",
    "## 10 random movies\n",
    "id_all = np.arange(len(movies_all))\n",
    "np.random.shuffle(id_all)\n",
    "id_random10 = id_all[:10]\n",
    "name_random10 = []\n",
    "for idx in range(len(id_random10)):\n",
    "    name_random10.append(movies_all[id_random10[idx]][1])\n",
    "\n",
    "## 10 random movies of genre = action\n",
    "print(id_all)\n",
    "id_random_action = []\n",
    "id_random_documentary = []\n",
    "id_random_drama = []\n",
    "name_random_action = []\n",
    "name_random_documentary = []\n",
    "name_random_drama = []\n",
    "\n",
    "for idx in id_all:\n",
    "    if movies_all[idx][3] == 1 and num_of_ratings_all[idx] > 50:\n",
    "        id_random_action.append(idx)\n",
    "        name_random_action.append(movies_all[idx][1])\n",
    "    if movies_all[idx][9] == 1 and num_of_ratings_all[idx] > 20:\n",
    "        id_random_documentary.append(idx)\n",
    "        name_random_documentary.append(movies_all[idx][1])\n",
    "    if movies_all[idx][10] == 1 and num_of_ratings_all[idx] > 50:\n",
    "        id_random_drama.append(idx)\n",
    "        name_random_drama.append(movies_all[idx][1])\n",
    "\n",
    "id_random10_action = id_random_action[:10]\n",
    "name_random10_action = name_random_action[:10]\n",
    "id_random10_documentary = id_random_documentary[:10]\n",
    "name_random10_documentary = name_random_documentary[:10]\n",
    "id_random10_drama = id_random_drama[:10]\n",
    "name_random10_drama = name_random_drama[:10]\n",
    "\n",
    "print('10 random movies')\n",
    "print(id_random10)\n",
    "print(name_random10)\n",
    "print('10 random action movies')\n",
    "print(id_random10_action)\n",
    "print(name_random10_action)\n",
    "print('10 random documentary movies')\n",
    "print(id_random10_documentary)\n",
    "print(name_random10_documentary)\n",
    "print('10 random drama movies')\n",
    "print(id_random10_drama)\n",
    "print(name_random10_drama)\n",
    "\n",
    "print('10 most popular movies')\n",
    "print(id_most_popular_10)\n",
    "print(name_most_popular_10)\n",
    "print('10 best movies')\n",
    "print(id_best_10)\n",
    "print(name_best_10)"
   ]
  },
  {
   "cell_type": "code",
   "execution_count": null,
   "metadata": {},
   "outputs": [],
   "source": [
    "def visualize_V(Vtilt, id_movie, name_movie, figname):\n",
    "    \"\"\"\n",
    "    2D visualizatin of Vtilt.\n",
    "    Input: \n",
    "    Vtilt: 2xn matrix \n",
    "    id_movie: the id of the movies to visualize\n",
    "    name_movie: the names of the movies to visualize\n",
    "    figname: the figure name you want to save\n",
    "    \"\"\"   \n",
    "    fig = plt.figure()\n",
    "    ax = fig.add_subplot(1, 1, 1)\n",
    "    for idx in range(len(id_movie)):\n",
    "        plt.text(Vtilt[0][id_movie[idx]], Vtilt[1][id_movie[idx]], name_movie[idx], \n",
    "                 rotation=45, bbox=dict(facecolor='red', alpha=0.05), fontsize=6,\n",
    "                 horizontalalignment='center', verticalalignment='center')\n",
    "        #print(str(Vtilt[0][id_movie[idx]])+', '+str(Vtilt[1][id_movie[idx]])+', '+name_movie[idx])\n",
    "    #plt.xlim(-1.0*np.amax(Vtilt[0]), np.amax(Vtilt[0]))\n",
    "    #plt.ylim(-1.0*np.amax(Vtilt[1]), np.amax(Vtilt[1]))\n",
    "    plt.xlim(np.amin(Vtilt[0]), np.amax(Vtilt[0]))\n",
    "    plt.ylim(np.amin(Vtilt[1]), np.amax(Vtilt[1]))\n",
    "    #plt.xlim(-1,1)\n",
    "    #plt.ylim(-1,1)\n",
    "    ax.spines['left'].set_position('center')\n",
    "    ax.spines['bottom'].set_position('center')\n",
    "    ax.spines['right'].set_color('none')\n",
    "    ax.spines['top'].set_color('none')\n",
    "    ax.xaxis.set_ticks_position('bottom')\n",
    "    ax.yaxis.set_ticks_position('left')\n",
    "    #ax.set_yticklabels([])\n",
    "    #ax.set_xticklabels([])\n",
    "    plt.xlabel('V[0]',horizontalalignment='right', x=1.0)\n",
    "    plt.ylabel('V[1]',horizontalalignment='right', y=1.0)\n",
    "    #plt.show()\n",
    "    plt.savefig(figname+'.pdf')\n",
    "    plt.savefig(figname+'.png')\n"
   ]
  },
  {
   "cell_type": "code",
   "execution_count": null,
   "metadata": {},
   "outputs": [],
   "source": [
    "## perform SVD to V and get the A, Sigma, B\n",
    "U = UT.transpose()\n",
    "V = VT.transpose()\n",
    "Vp = np.zeros_like(V)\n",
    "V_row_means = np.mean(V, axis=1)\n",
    "for irow in range(len(V)):\n",
    "    Vp[irow] = V[irow] - V_row_means[irow]\n",
    "A, S, B =  np.linalg.svd(Vp)\n",
    "A12 = A[:,[0,1]]\n",
    "A12T = A12.transpose()\n",
    "Vtilt = np.matmul(A12T, V)\n",
    "\n",
    "## visualize the movies of choices\n",
    "visualize_V(Vtilt, id_random10, name_random10, 'visualize_V_random10movies')\n",
    "visualize_V(Vtilt, id_random10_action, name_random10_action, 'visualize_V_random10movies_action')\n",
    "visualize_V(Vtilt, id_random10_documentary, name_random10_documentary, 'visualize_V_random10movies_documentary')\n",
    "visualize_V(Vtilt, id_random10_drama, name_random10_drama, 'visualize_V_random10movies_drama')\n",
    "visualize_V(Vtilt, id_best_10, name_best_10, 'visualize_V_best10movies')\n",
    "visualize_V(Vtilt, id_most_popular_10, name_most_popular_10, 'visualize_V_mostpopular10movies')"
   ]
  },
  {
   "cell_type": "markdown",
   "metadata": {},
   "source": [
    "## task 2: add bias term"
   ]
  },
  {
   "cell_type": "code",
   "execution_count": 3,
   "metadata": {},
   "outputs": [
    {
     "name": "stdout",
     "output_type": "stream",
     "text": [
      "Initial error = 7.036011139265726\n",
      "After epoch: 0, error = 0.5334586135404267, eps = 0.9241816701279273\n",
      "After epoch: 1, error = 0.4415839693830354, eps = 0.014129012229262002\n",
      "After epoch: 2, error = 0.42309712716521736, eps = 0.002843013131332762\n",
      "After epoch: 3, error = 0.40490367666398963, eps = 0.0027978936624119643\n",
      "After epoch: 4, error = 0.4042960543066827, eps = 9.344366768327819e-05\n",
      "After epoch: 5, error = 0.3838144556481683, eps = 0.0031497782720686083\n",
      "After epoch: 6, error = 0.3748008990567093, eps = 0.0013861566755208321\n",
      "After epoch: 7, error = 0.36715231449491587, eps = 0.0011762434108043335\n",
      "After epoch: 8, error = 0.3549860220811405, eps = 0.0018710025587095635\n",
      "After epoch: 9, error = 0.3501867698508927, eps = 0.0007380566648652308\n",
      "After epoch: 10, error = 0.3482744813921063, eps = 0.00029408273923524884\n",
      "After epoch: 11, error = 0.3386343734100932, eps = 0.001482511359020176\n",
      "After epoch: 12, error = 0.3378603502073265, eps = 0.00011903374862479404\n",
      "After epoch: 13, error = 0.33027260864809604, eps = 0.001166886623247097\n",
      "After epoch: 14, error = 0.335394777506871, eps = 0.0007877166448884082\n",
      "After epoch: 15, error = 0.33246145702668617, eps = 0.00045110292743966244\n",
      "After epoch: 16, error = 0.3207283983033949, eps = 0.001804377385168844\n",
      "After epoch: 17, error = 0.32203538967221107, eps = 0.00020099666456295124\n",
      "After epoch: 18, error = 0.3234350661301589, eps = 0.0002152503116907443\n",
      "After epoch: 19, error = 0.319327228790379, eps = 0.0006317268985569144\n",
      "After epoch: 20, error = 0.31999591371564023, eps = 0.00010283422127169144\n",
      "After epoch: 21, error = 0.31788580785335946, eps = 0.0003245042395171445\n",
      "After epoch: 22, error = 0.30942459488231705, eps = 0.0013012140905541765\n",
      "After epoch: 23, error = 0.31577220967323105, eps = 0.0009761727822730636\n",
      "After epoch: 24, error = 0.30997804983905813, eps = 0.0008910592896020681\n",
      "After epoch: 25, error = 0.306739168578839, eps = 0.0004980938250641634\n",
      "After epoch: 26, error = 0.30645026075545184, eps = 4.442990998445125e-05\n",
      "After epoch: 27, error = 0.3035295967987746, eps = 0.00044915653431826057\n",
      "After epoch: 28, error = 0.3057778128307304, eps = 0.0003457436173043491\n",
      "After epoch: 29, error = 0.3119639207874312, eps = 0.0009513353305840106\n",
      "After epoch: 30, error = 0.3072456728373846, eps = 0.0007255993598483587\n",
      "After epoch: 31, error = 0.30438536066272376, eps = 0.000439875289487458\n",
      "After epoch: 32, error = 0.30258725411023485, eps = 0.000276523187682878\n",
      "After epoch: 33, error = 0.30126778178911257, eps = 0.00020291605733320988\n",
      "After epoch: 34, error = 0.29979255672701743, eps = 0.0002268686114043475\n",
      "After epoch: 35, error = 0.3012360661040397, eps = 0.0002219911905842308\n",
      "After epoch: 36, error = 0.3022808536963477, eps = 0.00016067345679633569\n",
      "After epoch: 37, error = 0.2958152752258125, eps = 0.0009943139167205757\n",
      "After epoch: 38, error = 0.29922894726923466, eps = 0.0005249741589809565\n",
      "After epoch: 39, error = 0.30331602725979034, eps = 0.0006285347137737746\n",
      "After epoch: 40, error = 0.3026050405045845, eps = 0.0001093396404555091\n",
      "After epoch: 41, error = 0.2991678654800847, eps = 0.0005285885828529105\n",
      "After epoch: 42, error = 0.2961511521191202, eps = 0.0004639275652184069\n",
      "After epoch: 43, error = 0.29667286097579454, eps = 8.023139445784952e-05\n",
      "After epoch: 44, error = 0.2993518067645007, eps = 0.00041198372148594563\n",
      "After epoch: 45, error = 0.29181347215146963, eps = 0.0011592885383405987\n",
      "After epoch: 46, error = 0.2984344759507372, eps = 0.001018216119450576\n",
      "After epoch: 47, error = 0.2903837371244612, eps = 0.0012380890111115264\n",
      "After epoch: 48, error = 0.2995350077859174, eps = 0.0014073351388169638\n",
      "After epoch: 49, error = 0.3017615055263602, eps = 0.00034240365327836654\n",
      "After epoch: 50, error = 0.2948913019273084, eps = 0.0010565395007379075\n",
      "After epoch: 51, error = 0.2890937264331134, eps = 0.0008915845694838662\n",
      "After epoch: 52, error = 0.293284353662062, eps = 0.0006444588048108407\n",
      "After epoch: 53, error = 0.29111109468597446, eps = 0.000334216289294049\n",
      "After epoch: 54, error = 0.2927626354781494, eps = 0.0002539834604397493\n",
      "After epoch: 55, error = 0.29509605735468275, eps = 0.00035884706310358895\n",
      "After epoch: 56, error = 0.29135291120865353, eps = 0.000575642585157235\n",
      "After epoch: 57, error = 0.29420826738990913, eps = 0.0004391131282614451\n",
      "After epoch: 58, error = 0.29598209093410016, eps = 0.0002727888067298895\n",
      "After epoch: 59, error = 0.2948362091601671, eps = 0.00017622030262727197\n",
      "After epoch: 60, error = 0.29488352579285765, eps = 7.276624449143195e-06\n"
     ]
    }
   ],
   "source": [
    "## train with the optimized eta dna lambda, and get U, V\n",
    "reg = 0.10\n",
    "eta = 0.03\n",
    "K = 20\n",
    "UT_bias, VT_bias, a_bias, b_bias, e_in = train_model_bias(M, N, K, eta, reg, Y_train, 1e-5, 300, True)\n",
    "eout = get_err_bias(UT_bias, VT_bias, Y_test, a_bias, b_bias)"
   ]
  },
  {
   "cell_type": "code",
   "execution_count": null,
   "metadata": {},
   "outputs": [],
   "source": [
    "## perform SVD to V and get the A, Sigma, B\n",
    "U_bias = UT_bias.transpose()\n",
    "V_bias = VT_bias.transpose()\n",
    "Vp_bias = np.zeros_like(V_bias)\n",
    "V_bias_row_means = np.mean(V_bias, axis=1)\n",
    "for irow in range(len(V)):\n",
    "    Vp_bias[irow] = V_bias[irow] - V_bias_row_means[irow]\n",
    "A_bias, S_bias, B_bias =  np.linalg.svd(Vp_bias)\n",
    "A12_bias = A_bias[:,[0,1]]\n",
    "A12T_bias = A12_bias.transpose()\n",
    "Vtilt_bias = np.matmul(A12T_bias, V_bias)\n",
    "\n",
    "## visualize the movies of choices\n",
    "visualize_V(Vtilt, id_random10, name_random10, 'visualize_V_random10movies')\n",
    "visualize_V(Vtilt, id_random10_action, name_random10_action, 'visualize_V_random10movies_action')\n",
    "visualize_V(Vtilt, id_random10_documentary, name_random10_documentary, 'visualize_V_random10movies_documentary')\n",
    "visualize_V(Vtilt, id_random10_drama, name_random10_drama, 'visualize_V_random10movies_drama')\n",
    "visualize_V(Vtilt, id_best_10, name_best_10, 'visualize_V_best10movies')\n",
    "visualize_V(Vtilt, id_most_popular_10, name_most_popular_10, 'visualize_V_mostpopular10movies')"
   ]
  },
  {
   "cell_type": "code",
   "execution_count": null,
   "metadata": {},
   "outputs": [],
   "source": []
  }
 ],
 "metadata": {
  "kernelspec": {
   "display_name": "Python 3",
   "language": "python",
   "name": "python3"
  },
  "language_info": {
   "codemirror_mode": {
    "name": "ipython",
    "version": 3
   },
   "file_extension": ".py",
   "mimetype": "text/x-python",
   "name": "python",
   "nbconvert_exporter": "python",
   "pygments_lexer": "ipython3",
   "version": "3.7.1"
  }
 },
 "nbformat": 4,
 "nbformat_minor": 2
}
