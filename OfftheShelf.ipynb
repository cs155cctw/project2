{
 "cells": [
  {
   "cell_type": "code",
   "execution_count": 24,
   "metadata": {},
   "outputs": [],
   "source": [
    "from __future__ import (absolute_import, division, print_function,\n",
    "                        unicode_literals)\n",
    "\n",
    "from surprise import SVDpp\n",
    "from surprise import SVD\n",
    "from surprise import Dataset\n",
    "from surprise import accuracy\n",
    "from surprise.model_selection import GridSearchCV\n",
    "from surprise.model_selection import cross_validate\n",
    "from surprise.model_selection import train_test_split\n",
    "from surprise.model_selection import PredefinedKFold as pkf\n",
    "\n",
    "\n",
    "import matplotlib.pyplot as plt\n",
    "import numpy as np\n"
   ]
  },
  {
   "cell_type": "code",
   "execution_count": 10,
   "metadata": {},
   "outputs": [],
   "source": [
    "trainset = np.loadtxt('./data/train.txt').astype(int)\n",
    "testset = np.loadtxt('./data/test.txt').astype(int)\n",
    "data = np.loadtxt('./data/data.txt').astype(int)"
   ]
  },
  {
   "cell_type": "code",
   "execution_count": 25,
   "metadata": {},
   "outputs": [],
   "source": [
    "# Load the movielens-100k dataset (download it if needed),\n",
    "data = Dataset.load_builtin('ml-100k')\n",
    "\n",
    "# sample random trainset and testset\n",
    "# test set is made of 25% of the ratings.\n",
    "trainset, testset = train_test_split(data, test_size=.25)\n"
   ]
  },
  {
   "cell_type": "code",
   "execution_count": 31,
   "metadata": {},
   "outputs": [
    {
     "name": "stdout",
     "output_type": "stream",
     "text": [
      "0.9644974907716897\n",
      "{'n_epochs': 10, 'lr_all': 0.005, 'reg_all': 0.4}\n"
     ]
    }
   ],
   "source": [
    "#use SVD algorithm.\n",
    "algo = SVD()\n",
    "\n",
    "param_grid = {'n_epochs': [5, 10], 'lr_all': [0.002, 0.005],\n",
    "              'reg_all': [0.4, 0.6]}\n",
    "gs = GridSearchCV(SVD, param_grid, measures=['rmse', 'mae'], cv=3)\n",
    "\n",
    "gs.fit(data)\n",
    "\n",
    "# best RMSE score\n",
    "print(gs.best_score['rmse'])\n",
    "\n",
    "# combination of parameters that gave the best RMSE score\n",
    "print(gs.best_params['rmse'])"
   ]
  },
  {
   "cell_type": "code",
   "execution_count": 32,
   "metadata": {},
   "outputs": [
    {
     "data": {
      "text/plain": [
       "<surprise.prediction_algorithms.matrix_factorization.SVD at 0x109687e10>"
      ]
     },
     "execution_count": 32,
     "metadata": {},
     "output_type": "execute_result"
    }
   ],
   "source": [
    "# We can now use the algorithm that yields the best rmse:\n",
    "algo = gs.best_estimator['rmse']\n",
    "algo.fit(data.build_full_trainset())"
   ]
  },
  {
   "cell_type": "code",
   "execution_count": 33,
   "metadata": {},
   "outputs": [],
   "source": [
    "V_surprise = algo.qi\n",
    "U_surprise = algo.pu"
   ]
  },
  {
   "cell_type": "code",
   "execution_count": 34,
   "metadata": {},
   "outputs": [],
   "source": [
    "def visualize_V(Vtilt, id_movie, name_movie, figname):\n",
    "    \"\"\"\n",
    "    2D visualizatin of Vtilt.\n",
    "    Input: \n",
    "    Vtilt: 2xn matrix \n",
    "    id_movie: the id of the movies to visualize\n",
    "    name_movie: the names of the movies to visualize\n",
    "    figname: the figure name you want to save\n",
    "    \"\"\"   \n",
    "    #normalize Vtilt such that each row has variance of 1.0\n",
    "    Vtilt_row_means = np.mean(Vtilt, axis=1)\n",
    "    Vtilt_row_std = np.std(Vtilt, axis=1)\n",
    "    Vtiltp = np.zeros_like(Vtilt)\n",
    "    for irow in range(len(Vtilt)):\n",
    "        Vtiltp[irow] = np.divide(Vtilt[irow] - Vtilt_row_means[irow],Vtilt_row_std[irow])\n",
    "        \n",
    "    fig = plt.figure()\n",
    "    fig.set_size_inches(40,30)\n",
    "    ax = fig.add_subplot(1, 1, 1)\n",
    "    for idx in range(len(id_movie)):\n",
    "        plt.scatter(Vtiltp[0][id_movie[idx]], Vtiltp[1][id_movie[idx]], s=5000, marker='o', color='blue')\n",
    "        plt.text(Vtiltp[0][id_movie[idx]], Vtiltp[1][id_movie[idx]]-0.3, name_movie[idx], \n",
    "                 rotation=45, bbox=dict(facecolor='red', alpha=0.05), fontsize=50,\n",
    "                 horizontalalignment='center', verticalalignment='center')\n",
    "        #print(str(Vtiltp[0][id_movie[idx]])+', '+str(Vtiltp[1][id_movie[idx]])+', '+name_movie[idx])\n",
    "    #plt.xlim(-1.0*np.amax(Vtiltp[0]), np.amax(Vtiltp[0]))\n",
    "    #plt.ylim(-1.0*np.amax(Vtiltp[1]), np.amax(Vtiltp[1]))\n",
    "    #plt.xlim(np.amin(Vtiltp[0]), np.amax(Vtiltp[0]))\n",
    "    #plt.ylim(np.amin(Vtiltp[1]), np.amax(Vtiltp[1]))\n",
    "    plt.xlim(-2.5,2.5)\n",
    "    plt.ylim(-2.5,2.5)\n",
    "    ax.spines['left'].set_position('center')\n",
    "    ax.spines['bottom'].set_position('center')\n",
    "    ax.spines['right'].set_color('none')\n",
    "    ax.spines['top'].set_color('none')\n",
    "    ax.xaxis.set_ticks_position('bottom')\n",
    "    ax.yaxis.set_ticks_position('left')\n",
    "    ax.spines['left'].set_linewidth(5.5)\n",
    "    ax.spines['bottom'].set_linewidth(5.5)\n",
    "    ax.spines['right'].set_linewidth(5.5)\n",
    "    ax.spines['top'].set_linewidth(5.5)\n",
    "    #ax.set_yticklabels([])\n",
    "    #ax.set_xticklabels([])\n",
    "    plt.xticks([-2,-1,1,2], fontsize=60)\n",
    "    plt.yticks([-2,-1,1,2], fontsize=60)\n",
    "    plt.xlabel('V[0]',horizontalalignment='right', x=1.0, fontsize=60)\n",
    "    plt.ylabel('V[1]',horizontalalignment='right', y=1.0, fontsize=60)\n",
    "    #plt.show()\n",
    "    plt.savefig('plots/'+figname+'.pdf')\n",
    "    plt.savefig('plots/'+figname+'.png')"
   ]
  },
  {
   "cell_type": "code",
   "execution_count": 35,
   "metadata": {},
   "outputs": [],
   "source": [
    "## read the movies.txt file, get the list of all movies ids, names, and their genres\n",
    "ratings_all = np.loadtxt('data/data.txt')\n",
    "movies_all = []\n",
    "with open('data/movies.txt') as f:\n",
    "    lines = f.readlines()  \n",
    "    for line in lines:\n",
    "        line_items = line.strip('\\n').split(';')\n",
    "        line_items_int_str = []\n",
    "        for idx in range(len(line_items)):\n",
    "            if idx == 1:\n",
    "                line_items_int_str.append(line_items[idx][0:line_items[idx].find('(')]) #remove the year of the movie from the name\n",
    "            else:\n",
    "                line_items_int_str.append(int(line_items[idx]))\n",
    "        movies_all.append(line_items_int_str)"
   ]
  },
  {
   "cell_type": "code",
   "execution_count": 36,
   "metadata": {},
   "outputs": [
    {
     "name": "stdout",
     "output_type": "stream",
     "text": [
      "[ 176  767 1197 ...  433 1343  410]\n",
      "10 random movies\n",
      "[ 176  767 1197   25 1419  482 1075  355  583 1386]\n",
      "['Good, The Bad and The Ugly, The (137, 3.9)', 'Casper (52, 3.1)', 'Purple Noon (7, 3.1)', 'Brothers McMullen, The (73, 3.5)', \"Gilligan's Island: The Movie (3, 1.3)\", 'Casablanca (243, 4.5)', 'Pagemaster, The (12, 2.2)', 'Client, The (97, 3.4)', 'Secret Garden, The (79, 3.5)', 'Fall (3, 2.0)']\n",
      "10 random action movies\n",
      "[176, 294, 183, 596, 549, 448, 146, 630, 173, 719]\n",
      "['Good, The Bad and The Ugly, The (137, 3.9)', 'Breakdown (77, 3.4)', 'Army of Darkness (116, 3.4)', 'Eraser (206, 3.2)', 'Die Hard: With a Vengeance (151, 3.3)', 'Star Trek: The Motion Picture (117, 3.0)', 'Long Kiss Goodnight, The (185, 3.5)', 'Crying Game, The (119, 3.6)', 'Raiders of the Lost Ark (420, 4.3)', 'First Knight (86, 3.0)']\n",
      "10 random documentary movies\n",
      "[1141, 1083, 31, 643, 47, 846, 633, 1064, 644, 1021]\n",
      "['When We Were Kings (44, 4.0)', 'Anne Frank Remembered (21, 3.9)', 'Crumb (81, 3.8)', 'Thin Blue Line, The (35, 3.8)', 'Hoop Dreams (117, 4.1)', 'Looking for Richard (55, 3.7)', \"Microcosmos: Le peuple de l'herbe (24, 3.8)\", 'Koyaanisqatsi (53, 3.5)', 'Paris Is Burning (27, 3.8)', 'Fast, Cheap & Out of Control (32, 3.4)']\n",
      "10 random drama movies\n",
      "[482, 355, 583, 60, 605, 324, 377, 55, 30, 1100]\n",
      "['Casablanca (243, 4.5)', 'Client, The (97, 3.4)', 'Secret Garden, The (79, 3.5)', 'Three Colors: White (59, 3.9)', 'All About Eve (66, 4.0)', 'Crash (128, 2.5)', 'Miracle on 34th Street (101, 3.7)', 'Pulp Fiction (394, 4.1)', 'Crimson Tide (154, 3.6)', 'Six Degrees of Separation (74, 3.8)']\n",
      "10 most popular movies\n",
      "[ 49 257  99 180 293 285 287   0 299 120]\n",
      "['Star Wars (583, 4.4)', 'Contact (509, 3.8)', 'Fargo (508, 4.2)', 'Return of the Jedi (507, 4.0)', 'Liar Liar (485, 3.2)', 'English Patient, The (481, 3.7)', 'Scream (478, 3.4)', 'Toy Story (452, 3.9)', 'Air Force One (431, 3.6)', 'Independence Day (429, 3.4)']\n",
      "10 best movies\n",
      "[1292 1466 1652  813 1121 1598 1200 1188 1499 1535]\n",
      "['Star Kid (3, 5.0)', 'Saint of Fort Washington, The (2, 5.0)', 'Entertaining Angels: The Dorothy Day Story (1, 5.0)', 'Great Day in Harlem, A (1, 5.0)', 'They Made Me a Criminal (1, 5.0)', \"Someone Else's America (1, 5.0)\", 'Marlene Dietrich: Shadow and Light (1, 5.0)', 'Prefontaine (3, 5.0)', 'Santa with Muscles (2, 5.0)', 'Aiqing wansui (1, 5.0)']\n"
     ]
    }
   ],
   "source": [
    "## 10 random movies, 10 most popular movies, and 10 best movies\n",
    "average_ratings_all = np.zeros(len(movies_all))\n",
    "num_of_ratings_all = np.zeros(len(movies_all))\n",
    "for rating in ratings_all:\n",
    "    num_of_ratings_all[int(rating[1])-1] += 1\n",
    "    average_ratings_all[int(rating[1])-1] += rating[2]\n",
    "average_ratings_all = np.divide(average_ratings_all, num_of_ratings_all)\n",
    "id_most_popular_10 = num_of_ratings_all.argsort()[-10:][::-1]\n",
    "id_best_10 = average_ratings_all.argsort()[-10:][::-1]\n",
    "\n",
    "name_most_popular_10 = []\n",
    "for idx in range(len(id_most_popular_10)):\n",
    "    name_most_popular_10.append(movies_all[id_most_popular_10[idx]][1]+\"(%.0f, %.1f)\"%(num_of_ratings_all[id_most_popular_10[idx]], average_ratings_all[id_most_popular_10[idx]]))\n",
    "    \n",
    "name_best_10 = []\n",
    "for idx in range(len(id_best_10)):\n",
    "    name_best_10.append(movies_all[id_best_10[idx]][1]+\"(%.0f, %.1f)\"%(num_of_ratings_all[id_best_10[idx]], average_ratings_all[id_best_10[idx]]))\n",
    "    #print(average_ratings_all[id_best_10[idx]])\n",
    "    #print(num_of_ratings_all[id_best_10[idx]])\n",
    "\n",
    "## 10 random movies\n",
    "id_all = np.arange(len(movies_all))\n",
    "np.random.shuffle(id_all)\n",
    "id_random10 = id_all[:10]\n",
    "name_random10 = []\n",
    "for idx in range(len(id_random10)):\n",
    "    name_random10.append(movies_all[id_random10[idx]][1]+\"(%.0f, %.1f)\"%(num_of_ratings_all[id_random10[idx]], average_ratings_all[id_random10[idx]]))\n",
    "\n",
    "## 10 random movies of genre = action\n",
    "print(id_all)\n",
    "id_random_action = []\n",
    "id_random_documentary = []\n",
    "id_random_drama = []\n",
    "name_random_action = []\n",
    "name_random_documentary = []\n",
    "name_random_drama = []\n",
    "\n",
    "for idx in id_all:\n",
    "    if movies_all[idx][3] == 1 and num_of_ratings_all[idx] > 50:\n",
    "        id_random_action.append(idx)\n",
    "        name_random_action.append(movies_all[idx][1]+\"(%.0f, %.1f)\"%(num_of_ratings_all[idx], average_ratings_all[idx]))\n",
    "    if movies_all[idx][9] == 1 and num_of_ratings_all[idx] > 20:\n",
    "        id_random_documentary.append(idx)\n",
    "        name_random_documentary.append(movies_all[idx][1]+\"(%.0f, %.1f)\"%(num_of_ratings_all[idx], average_ratings_all[idx]))\n",
    "    if movies_all[idx][10] == 1 and num_of_ratings_all[idx] > 50:\n",
    "        id_random_drama.append(idx)\n",
    "        name_random_drama.append(movies_all[idx][1]+\"(%.0f, %.1f)\"%(num_of_ratings_all[idx], average_ratings_all[idx]))\n",
    "\n",
    "id_random10_action = id_random_action[:10]\n",
    "name_random10_action = name_random_action[:10]\n",
    "id_random10_documentary = id_random_documentary[:10]\n",
    "name_random10_documentary = name_random_documentary[:10]\n",
    "id_random10_drama = id_random_drama[:10]\n",
    "name_random10_drama = name_random_drama[:10]\n",
    "\n",
    "print('10 random movies')\n",
    "print(id_random10)\n",
    "print(name_random10)\n",
    "print('10 random action movies')\n",
    "print(id_random10_action)\n",
    "print(name_random10_action)\n",
    "print('10 random documentary movies')\n",
    "print(id_random10_documentary)\n",
    "print(name_random10_documentary)\n",
    "print('10 random drama movies')\n",
    "print(id_random10_drama)\n",
    "print(name_random10_drama)\n",
    "\n",
    "print('10 most popular movies')\n",
    "print(id_most_popular_10)\n",
    "print(name_most_popular_10)\n",
    "print('10 best movies')\n",
    "print(id_best_10)\n",
    "print(name_best_10)"
   ]
  },
  {
   "cell_type": "code",
   "execution_count": null,
   "metadata": {},
   "outputs": [],
   "source": [
    "## perform SVD to V and get the A, Sigma, B\n",
    "U = U_surprise.transpose()\n",
    "V = V_surprise.transpose()\n",
    "Vp = np.zeros_like(V)\n",
    "V_row_means = np.mean(V, axis=1)\n",
    "for irow in range(len(V)):\n",
    "    Vp[irow] = V[irow] - V_row_means[irow]\n",
    "A, S, B =  np.linalg.svd(Vp)\n",
    "A12 = A[:,[0,1]]\n",
    "A12T = A12.transpose()\n",
    "Vtilt = np.matmul(A12T, V)\n",
    "\n",
    "## visualize the movies of choices\n",
    "visualize_V(Vtilt, id_random10, name_random10, 'visualize_V_surprise_random10movies')\n",
    "visualize_V(Vtilt, id_random10_action, name_random10_action, 'visualize_V_surprise_random10movies_action')\n",
    "visualize_V(Vtilt, id_random10_documentary, name_random10_documentary, 'visualize_V_surprise_random10movies_documentary')\n",
    "visualize_V(Vtilt, id_random10_drama, name_random10_drama, 'visualize_V_surprise_random10movies_drama')\n",
    "visualize_V(Vtilt, id_best_10, name_best_10, 'visualize_V_surprise_best10movies')\n",
    "visualize_V(Vtilt, id_most_popular_10, name_most_popular_10, 'visualize_V_surprise_mostpopular10movies')\n"
   ]
  },
  {
   "cell_type": "code",
   "execution_count": null,
   "metadata": {},
   "outputs": [],
   "source": [
    "biased=False"
   ]
  },
  {
   "cell_type": "code",
   "execution_count": null,
   "metadata": {},
   "outputs": [],
   "source": [
    "param_grid = {'n_factors': [110, 120, 140, 160], 'n_epochs': [90, 100, 110], 'lr_all': [0.001, 0.003, 0.005, 0.008],\n",
    "              'reg_all': [0.08, 0.1, 0.15]}\n",
    "gs = GridSearchCV(SVD, param_grid, measures=['rmse', 'mae'], cv=3)\n",
    "gs.fit(data)\n",
    "algo = gs.best_estimator['rmse']\n",
    "print(gs.best_score['rmse'])\n",
    "print(gs.best_params['rmse'])\n",
    "cross_validate(algo, data, measures=['RMSE', 'MAE'], cv=5, verbose=True)\n",
    "\n",
    "# Use the new parameters with the train data\n",
    "algo = SVD(n_factors=160, n_epochs=100, lr_all=0.005, reg_all=0.1)\n",
    "algo.fit(trainset)\n",
    "test_pred = algo.test(testset)\n",
    "print(\"SVD : Test Set\")\n",
    "accuracy.rmse(test_pred, verbose=True)"
   ]
  },
  {
   "cell_type": "code",
   "execution_count": null,
   "metadata": {},
   "outputs": [],
   "source": [
    "from surprise import SVD\n",
    "from surprise import Dataset\n",
    "from surprise.model_selection import cross_validate\n",
    "\n",
    "# Load the movielens-100k dataset (download it if needed).\n",
    "data = Dataset.load_builtin('ml-100k')\n",
    "\n",
    "# Use the famous SVD algorithm.\n",
    "algo = SVD()\n",
    "\n",
    "# Run 5-fold cross-validation and print results.\n",
    "cross_validate(algo, data, measures=['RMSE', 'MAE'], cv=5, verbose=True)"
   ]
  },
  {
   "cell_type": "code",
   "execution_count": null,
   "metadata": {},
   "outputs": [],
   "source": []
  }
 ],
 "metadata": {
  "kernelspec": {
   "display_name": "Python 3",
   "language": "python",
   "name": "python3"
  },
  "language_info": {
   "codemirror_mode": {
    "name": "ipython",
    "version": 3
   },
   "file_extension": ".py",
   "mimetype": "text/x-python",
   "name": "python",
   "nbconvert_exporter": "python",
   "pygments_lexer": "ipython3",
   "version": "3.6.8"
  }
 },
 "nbformat": 4,
 "nbformat_minor": 2
}
