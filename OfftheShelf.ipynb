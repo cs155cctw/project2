{
 "cells": [
  {
   "cell_type": "code",
   "execution_count": 1,
   "metadata": {},
   "outputs": [
    {
     "name": "stdout",
     "output_type": "stream",
     "text": [
      "Dataset ml-100k could not be found. Do you want to download it? [Y/n] Y\n",
      "Trying to download dataset from http://files.grouplens.org/datasets/movielens/ml-100k.zip...\n",
      "Done! Dataset ml-100k has been saved to /Users/Stefahrencat/.surprise_data/ml-100k\n",
      "Evaluating RMSE, MAE of algorithm SVD on 5 split(s).\n",
      "\n",
      "                  Fold 1  Fold 2  Fold 3  Fold 4  Fold 5  Mean    Std     \n",
      "RMSE (testset)    0.9380  0.9406  0.9336  0.9367  0.9332  0.9364  0.0028  \n",
      "MAE (testset)     0.7366  0.7428  0.7389  0.7399  0.7337  0.7384  0.0031  \n",
      "Fit time          4.41    4.63    4.38    4.46    4.48    4.47    0.08    \n",
      "Test time         0.20    0.16    0.12    0.13    0.15    0.15    0.03    \n"
     ]
    },
    {
     "data": {
      "text/plain": [
       "{'test_rmse': array([0.93802442, 0.94062843, 0.9336244 , 0.93673223, 0.93322053]),\n",
       " 'test_mae': array([0.736568  , 0.74277593, 0.73886194, 0.73994538, 0.73371723]),\n",
       " 'fit_time': (4.4149250984191895,\n",
       "  4.6259191036224365,\n",
       "  4.377200126647949,\n",
       "  4.462311029434204,\n",
       "  4.476406097412109),\n",
       " 'test_time': (0.20047998428344727,\n",
       "  0.15942883491516113,\n",
       "  0.12337279319763184,\n",
       "  0.1252579689025879,\n",
       "  0.1518871784210205)}"
      ]
     },
     "execution_count": 1,
     "metadata": {},
     "output_type": "execute_result"
    }
   ],
   "source": [
    "from surprise import SVD\n",
    "from surprise import Dataset\n",
    "from surprise.model_selection import cross_validate\n",
    "\n",
    "# Load the movielens-100k dataset (download it if needed).\n",
    "data = Dataset.load_builtin('ml-100k')\n",
    "\n",
    "# Use the famous SVD algorithm.\n",
    "algo = SVD()\n",
    "\n",
    "# Run 5-fold cross-validation and print results.\n",
    "cross_validate(algo, data, measures=['RMSE', 'MAE'], cv=5, verbose=True)"
   ]
  },
  {
   "cell_type": "code",
   "execution_count": null,
   "metadata": {},
   "outputs": [],
   "source": []
  }
 ],
 "metadata": {
  "kernelspec": {
   "display_name": "Python 3",
   "language": "python",
   "name": "python3"
  },
  "language_info": {
   "codemirror_mode": {
    "name": "ipython",
    "version": 3
   },
   "file_extension": ".py",
   "mimetype": "text/x-python",
   "name": "python",
   "nbconvert_exporter": "python",
   "pygments_lexer": "ipython3",
   "version": "3.6.8"
  }
 },
 "nbformat": 4,
 "nbformat_minor": 2
}
