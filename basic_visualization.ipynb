{
 "cells": [
  {
   "cell_type": "code",
   "execution_count": 1,
   "metadata": {},
   "outputs": [],
   "source": [
    "import matplotlib.pyplot as plt\n",
    "import numpy as np"
   ]
  },
  {
   "cell_type": "code",
   "execution_count": 3,
   "metadata": {},
   "outputs": [],
   "source": [
    "ratings_all = np.loadtxt('data/data.txt')"
   ]
  },
  {
   "cell_type": "code",
   "execution_count": 54,
   "metadata": {},
   "outputs": [],
   "source": [
    "## read the movies.txt file, get the list of all movies ids, names, and their genres\n",
    "movies_all = []\n",
    "with open('data/movies.txt') as f:\n",
    "    lines = f.readlines()  \n",
    "    for line in lines:\n",
    "        line_items = line.strip('\\n').split(';')\n",
    "        line_items_int_str = []\n",
    "        for idx in range(len(line_items)):\n",
    "            if idx == 1:\n",
    "                line_items_int_str.append(line_items[idx])\n",
    "            else:\n",
    "                line_items_int_str.append(int(line_items[idx]))\n",
    "        movies_all.append(line_items_int_str)"
   ]
  },
  {
   "cell_type": "markdown",
   "metadata": {},
   "source": [
    "## Basic visualization 2: All ratings of the ten most popular movies (movies which have received the most ratings) "
   ]
  },
  {
   "cell_type": "code",
   "execution_count": 93,
   "metadata": {},
   "outputs": [
    {
     "name": "stdout",
     "output_type": "stream",
     "text": [
      "ten most popular movies: idx, name, num of ratings, average rating\n",
      "[[49, ' Star Wars (1977)', 583.0, 4.3584905660377355], [257, ' Contact (1997)', 509.0, 3.8035363457760316], [99, ' Fargo (1996)', 508.0, 4.155511811023622], [180, ' Return of the Jedi (1983)', 507.0, 4.007889546351085], [293, ' Liar Liar (1997)', 485.0, 3.156701030927835], [285, ' \"English Patient, The (1996)\"', 481.0, 3.656964656964657], [287, ' Scream (1996)', 478.0, 3.4414225941422596], [0, ' Toy Story (1995)', 452.0, 3.8783185840707963], [299, ' Air Force One (1997)', 431.0, 3.6310904872389793], [120, ' Independence Day (ID4) (1996)', 429.0, 3.438228438228438]]\n"
     ]
    }
   ],
   "source": [
    "## find the ten most popular movies\n",
    "num_of_ratings_all = np.zeros(len(movies_all))\n",
    "average_ratings_all = np.zeros(len(movies_all))\n",
    "\n",
    "for rating in ratings_all:\n",
    "    num_of_ratings_all[int(rating[1])-1] += 1\n",
    "    average_ratings_all[int(rating[1])-1] += rating[2]\n",
    "\n",
    "average_ratings_all = np.divide(average_ratings_all, num_of_ratings_all)\n",
    "\n",
    "index_most_popular_10 = num_of_ratings_all.argsort()[-10:][::-1]\n",
    "\n",
    "most_popular_10 = []\n",
    "for idx in range(10):\n",
    "    most_popular_10.append([index_most_popular_10[idx], movies_all[index_most_popular_10[idx]][1], num_of_ratings_all[index_most_popular_10[idx]], average_ratings_all[index_most_popular_10[idx]]])\n",
    "\n",
    "\n",
    "print('ten most popular movies: idx, name, num of ratings, average rating')\n",
    "print(most_popular_10, sep = \";\")   \n"
   ]
  },
  {
   "cell_type": "code",
   "execution_count": null,
   "metadata": {},
   "outputs": [],
   "source": []
  }
 ],
 "metadata": {
  "kernelspec": {
   "display_name": "Python 3",
   "language": "python",
   "name": "python3"
  },
  "language_info": {
   "codemirror_mode": {
    "name": "ipython",
    "version": 3
   },
   "file_extension": ".py",
   "mimetype": "text/x-python",
   "name": "python",
   "nbconvert_exporter": "python",
   "pygments_lexer": "ipython3",
   "version": "3.6.5"
  }
 },
 "nbformat": 4,
 "nbformat_minor": 2
}
